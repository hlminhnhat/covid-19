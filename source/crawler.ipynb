{
 "cells": [
  {
   "cell_type": "code",
   "execution_count": 1,
   "metadata": {},
   "outputs": [],
   "source": [
    "import requests\n",
    "import pandas as pd\n",
    "import bs4"
   ]
  },
  {
   "cell_type": "code",
   "execution_count": 2,
   "metadata": {},
   "outputs": [
    {
     "output_type": "execute_result",
     "data": {
      "text/plain": "Empty DataFrame\nColumns: [country, total_cases, new_cases, total_deaths, new_deaths, total_recovered, active_cases, serious, cases_per_mpop, deaths_per_mpop, total_tests, tests_per_mpop, population, continent]\nIndex: []",
      "text/html": "<div>\n<style scoped>\n    .dataframe tbody tr th:only-of-type {\n        vertical-align: middle;\n    }\n\n    .dataframe tbody tr th {\n        vertical-align: top;\n    }\n\n    .dataframe thead th {\n        text-align: right;\n    }\n</style>\n<table border=\"1\" class=\"dataframe\">\n  <thead>\n    <tr style=\"text-align: right;\">\n      <th></th>\n      <th>country</th>\n      <th>total_cases</th>\n      <th>new_cases</th>\n      <th>total_deaths</th>\n      <th>new_deaths</th>\n      <th>total_recovered</th>\n      <th>active_cases</th>\n      <th>serious</th>\n      <th>cases_per_mpop</th>\n      <th>deaths_per_mpop</th>\n      <th>total_tests</th>\n      <th>tests_per_mpop</th>\n      <th>population</th>\n      <th>continent</th>\n    </tr>\n  </thead>\n  <tbody>\n  </tbody>\n</table>\n</div>"
     },
     "metadata": {},
     "execution_count": 2
    }
   ],
   "source": [
    "cols=['country','total_cases','new_cases','total_deaths','new_deaths',\\\n",
    "      'total_recovered','active_cases','serious','cases_per_mpop',\\\n",
    "      'deaths_per_mpop','total_tests','tests_per_mpop','population','continent']\n",
    "\n",
    "df=pd.DataFrame(columns=cols)\n",
    "df"
   ]
  },
  {
   "cell_type": "code",
   "execution_count": 3,
   "metadata": {},
   "outputs": [
    {
     "output_type": "execute_result",
     "data": {
      "text/plain": "                   country total_cases new_cases total_deaths new_deaths  \\\n0                    China       83040         4        4634           0   \n1                      USA     2026493     19044      113055         586   \n2                   Brazil      710887     18925       37312         813   \n3                   Russia      476658      8985        5971         112   \n4                    Spain      288797       167       27136           0   \n..                     ...         ...       ...          ...        ...   \n210  Caribbean Netherlands           7         0                       0   \n211              St. Barth           6         0                       0   \n212                Lesotho           4         0                       0   \n213               Anguilla           3         0                       0   \n214  Saint Pierre Miquelon           1         0                       0   \n\n    total_recovered active_cases serious cases_per_mpop deaths_per_mpop  \\\n0             78341           65       1             58               3   \n1            773480      1139958   16907           6124             342   \n2            325602       347973    8318           3346             176   \n3            230688       239999    2300           3266              41   \n4               N/A          N/A     617           6177             580   \n..              ...          ...     ...            ...             ...   \n210               7            0       0            267               0   \n211               6            0       0            608               0   \n212               2            2       0              2               0   \n213               3            0       0            200               0   \n214               1            0       0            173               0   \n\n    total_tests tests_per_mpop   population      continent  \n0             0              0  1439323776            Asia  \n1      21725064          65657   330885824   North America  \n2        999836           4706   212467494   South America  \n3      13016023          89193   145930871          Europe  \n4       4465338          95508    46753739          Europe  \n..          ...            ...          ...            ...  \n210         424          16178       26208   North America  \n211         152          15392        9875   North America  \n212        1515            708     2141209          Africa  \n213          41           2734       14995   North America  \n214           0              0        5796   North America  \n\n[215 rows x 14 columns]",
      "text/html": "<div>\n<style scoped>\n    .dataframe tbody tr th:only-of-type {\n        vertical-align: middle;\n    }\n\n    .dataframe tbody tr th {\n        vertical-align: top;\n    }\n\n    .dataframe thead th {\n        text-align: right;\n    }\n</style>\n<table border=\"1\" class=\"dataframe\">\n  <thead>\n    <tr style=\"text-align: right;\">\n      <th></th>\n      <th>country</th>\n      <th>total_cases</th>\n      <th>new_cases</th>\n      <th>total_deaths</th>\n      <th>new_deaths</th>\n      <th>total_recovered</th>\n      <th>active_cases</th>\n      <th>serious</th>\n      <th>cases_per_mpop</th>\n      <th>deaths_per_mpop</th>\n      <th>total_tests</th>\n      <th>tests_per_mpop</th>\n      <th>population</th>\n      <th>continent</th>\n    </tr>\n  </thead>\n  <tbody>\n    <tr>\n      <th>0</th>\n      <td>China</td>\n      <td>83040</td>\n      <td>4</td>\n      <td>4634</td>\n      <td>0</td>\n      <td>78341</td>\n      <td>65</td>\n      <td>1</td>\n      <td>58</td>\n      <td>3</td>\n      <td>0</td>\n      <td>0</td>\n      <td>1439323776</td>\n      <td>Asia</td>\n    </tr>\n    <tr>\n      <th>1</th>\n      <td>USA</td>\n      <td>2026493</td>\n      <td>19044</td>\n      <td>113055</td>\n      <td>586</td>\n      <td>773480</td>\n      <td>1139958</td>\n      <td>16907</td>\n      <td>6124</td>\n      <td>342</td>\n      <td>21725064</td>\n      <td>65657</td>\n      <td>330885824</td>\n      <td>North America</td>\n    </tr>\n    <tr>\n      <th>2</th>\n      <td>Brazil</td>\n      <td>710887</td>\n      <td>18925</td>\n      <td>37312</td>\n      <td>813</td>\n      <td>325602</td>\n      <td>347973</td>\n      <td>8318</td>\n      <td>3346</td>\n      <td>176</td>\n      <td>999836</td>\n      <td>4706</td>\n      <td>212467494</td>\n      <td>South America</td>\n    </tr>\n    <tr>\n      <th>3</th>\n      <td>Russia</td>\n      <td>476658</td>\n      <td>8985</td>\n      <td>5971</td>\n      <td>112</td>\n      <td>230688</td>\n      <td>239999</td>\n      <td>2300</td>\n      <td>3266</td>\n      <td>41</td>\n      <td>13016023</td>\n      <td>89193</td>\n      <td>145930871</td>\n      <td>Europe</td>\n    </tr>\n    <tr>\n      <th>4</th>\n      <td>Spain</td>\n      <td>288797</td>\n      <td>167</td>\n      <td>27136</td>\n      <td>0</td>\n      <td>N/A</td>\n      <td>N/A</td>\n      <td>617</td>\n      <td>6177</td>\n      <td>580</td>\n      <td>4465338</td>\n      <td>95508</td>\n      <td>46753739</td>\n      <td>Europe</td>\n    </tr>\n    <tr>\n      <th>...</th>\n      <td>...</td>\n      <td>...</td>\n      <td>...</td>\n      <td>...</td>\n      <td>...</td>\n      <td>...</td>\n      <td>...</td>\n      <td>...</td>\n      <td>...</td>\n      <td>...</td>\n      <td>...</td>\n      <td>...</td>\n      <td>...</td>\n      <td>...</td>\n    </tr>\n    <tr>\n      <th>210</th>\n      <td>Caribbean Netherlands</td>\n      <td>7</td>\n      <td>0</td>\n      <td></td>\n      <td>0</td>\n      <td>7</td>\n      <td>0</td>\n      <td>0</td>\n      <td>267</td>\n      <td>0</td>\n      <td>424</td>\n      <td>16178</td>\n      <td>26208</td>\n      <td>North America</td>\n    </tr>\n    <tr>\n      <th>211</th>\n      <td>St. Barth</td>\n      <td>6</td>\n      <td>0</td>\n      <td></td>\n      <td>0</td>\n      <td>6</td>\n      <td>0</td>\n      <td>0</td>\n      <td>608</td>\n      <td>0</td>\n      <td>152</td>\n      <td>15392</td>\n      <td>9875</td>\n      <td>North America</td>\n    </tr>\n    <tr>\n      <th>212</th>\n      <td>Lesotho</td>\n      <td>4</td>\n      <td>0</td>\n      <td></td>\n      <td>0</td>\n      <td>2</td>\n      <td>2</td>\n      <td>0</td>\n      <td>2</td>\n      <td>0</td>\n      <td>1515</td>\n      <td>708</td>\n      <td>2141209</td>\n      <td>Africa</td>\n    </tr>\n    <tr>\n      <th>213</th>\n      <td>Anguilla</td>\n      <td>3</td>\n      <td>0</td>\n      <td></td>\n      <td>0</td>\n      <td>3</td>\n      <td>0</td>\n      <td>0</td>\n      <td>200</td>\n      <td>0</td>\n      <td>41</td>\n      <td>2734</td>\n      <td>14995</td>\n      <td>North America</td>\n    </tr>\n    <tr>\n      <th>214</th>\n      <td>Saint Pierre Miquelon</td>\n      <td>1</td>\n      <td>0</td>\n      <td></td>\n      <td>0</td>\n      <td>1</td>\n      <td>0</td>\n      <td>0</td>\n      <td>173</td>\n      <td>0</td>\n      <td>0</td>\n      <td>0</td>\n      <td>5796</td>\n      <td>North America</td>\n    </tr>\n  </tbody>\n</table>\n<p>215 rows × 14 columns</p>\n</div>"
     },
     "metadata": {},
     "execution_count": 3
    }
   ],
   "source": [
    "def convert(s):\n",
    "    filters=[',','+']\n",
    "    for filter in filters:\n",
    "        s=s.replace(filter,'')\n",
    "    if (s=='' or s==' '): return 0\n",
    "    else: return s\n",
    "    \n",
    "url='https://www.worldometers.info/coronavirus/'\n",
    "doc=requests.get(url)\n",
    "soup=bs4.BeautifulSoup(doc.text,'html.parser')\n",
    "\n",
    "table=soup.find('table',id='main_table_countries_yesterday')\n",
    "body=table.find('tbody',class_=None)\n",
    "trs=body.find_all(lambda tag: tag.name=='tr' and not(tag.has_attr('class') and 'total_row_world' in tag['class']))\n",
    "for tr in trs:\n",
    "    tds=tr.find_all('td')\n",
    "    id=int(tds[0].text)-1\n",
    "    row=[]\n",
    "    for i in range(1,len(tds)):\n",
    "        if i==7: continue\n",
    "        if(tds[i].has_attr('data-continent')):\n",
    "            row.append(tds[i].text)\n",
    "            break\n",
    "        row.append(convert(tds[i].text))\n",
    "        \n",
    "    df.loc[id]=row\n",
    "df"
   ]
  },
  {
   "cell_type": "code",
   "execution_count": 6,
   "metadata": {},
   "outputs": [],
   "source": [
    "from datetime import date, timedelta\n",
    "\n",
    "yesterday=(date.today()-timedelta(1)).strftime('%d%m%Y')\n",
    "\n",
    "df.to_csv('data_%s.csv'%(yesterday),index=False)"
   ]
  },
  {
   "cell_type": "code",
   "execution_count": null,
   "metadata": {},
   "outputs": [],
   "source": []
  }
 ],
 "metadata": {
  "kernelspec": {
   "display_name": "Python 3",
   "language": "python",
   "name": "python3"
  },
  "language_info": {
   "codemirror_mode": {
    "name": "ipython",
    "version": 3
   },
   "file_extension": ".py",
   "mimetype": "text/x-python",
   "name": "python",
   "nbconvert_exporter": "python",
   "pygments_lexer": "ipython3",
   "version": "3.7.6-final"
  }
 },
 "nbformat": 4,
 "nbformat_minor": 4
}